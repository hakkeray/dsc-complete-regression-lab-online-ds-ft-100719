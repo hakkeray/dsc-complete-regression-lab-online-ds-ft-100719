{
 "cells": [
  {
   "cell_type": "markdown",
   "metadata": {},
   "source": [
    "# Complete Regression - Lab\n",
    "\n",
    "## Introduction\n",
    "By now, you have created all the necessary functions to calculate the slope, intercept, best-fit line, prediction and visualizations. In this lab you will put them all together to run a regression experiment and calculate the model loss. \n",
    "\n",
    "## Objectives\n",
    "\n",
    "You will be able to:\n",
    "\n",
    "* Run a complete regression analysis using python\n",
    "\n",
    "## The formulas\n",
    "\n",
    "**Slope**: \n",
    "$\\hat m = \\dfrac{\\overline{x}*\\overline{y}-\\overline{xy}}{(\\overline{x})^2-\\overline{x^2}}$\n",
    "\n",
    "\n",
    "**Intercept**: $ \\hat c = \\bar{y} - \\hat m\\bar{x}$\n",
    "\n",
    "**Prediction**: $\\hat{y} = \\hat mx + \\hat c$\n",
    "\n",
    "**R-Squared**: \n",
    "$ R^2 = 1- \\dfrac{SS_{RES}}{SS_{TOT}} = 1 - \\dfrac{\\sum_i(y_i - \\hat y_i)^2}{\\sum_i(y_i - \\overline y_i)^2} $\n",
    "\n",
    "\n",
    "Use the python functions created earlier to implement these formulas to run a regression analysis using x and y as input variables. "
   ]
  },
  {
   "cell_type": "code",
   "execution_count": 1,
   "metadata": {},
   "outputs": [
    {
     "data": {
      "text/plain": [
       "<matplotlib.collections.PathCollection at 0x11746d0f0>"
      ]
     },
     "execution_count": 1,
     "metadata": {},
     "output_type": "execute_result"
    }
   ],
   "source": [
    "# Combine all the functions created so far to run a complete regression experiment. \n",
    "# Produce an output similar to the one shown below. \n",
    "import numpy as np\n",
    "import matplotlib.pyplot as plt\n",
    "from matplotlib import style\n",
    "style.use('ggplot')\n",
    "\n",
    "X = np.array([1,2,3,4,5,6,7,8,9,10], dtype=np.float64)\n",
    "Y = np.array([7,7,8,9,9,10,10,11,11,12], dtype=np.float64)\n",
    "\n",
    "plt.scatter(X,Y)"
   ]
  },
  {
   "cell_type": "code",
   "execution_count": 2,
   "metadata": {},
   "outputs": [
    {
     "name": "stdout",
     "output_type": "stream",
     "text": [
      "Slope (m): 0.5575757575757568\n",
      "intercept (c): 6.3333333333333375\n",
      "y_hat (regline): [6.890909090909094, 7.448484848484851, 8.006060606060608, 8.563636363636364, 9.121212121212121, 9.67878787878788, 10.236363636363635, 10.793939393939393, 11.351515151515148, 11.909090909090907]\n",
      "ss_res: 0.7515151515151492\n",
      "R-squared:  0.9715335169880601\n"
     ]
    }
   ],
   "source": [
    "# slope: m_hat\n",
    "# intercept: c_hat\n",
    "# prediction: y_hat\n",
    "# R-squared: r_sq\n",
    "\n",
    "#####################\n",
    "### slope: m_hat ###\n",
    "\n",
    "def calc_slope(xs,ys):\n",
    "    \n",
    "    n = np.mean(xs)*np.mean(ys) - np.mean(xs*ys)\n",
    "    d = (np.mean(xs)**2) - np.mean(xs**2)\n",
    "    m = n/d\n",
    "    return m\n",
    "m = calc_slope(X,Y)\n",
    "print(\"Slope (m):\",m)\n",
    "\n",
    "########################\n",
    "### intercept: c_hat ###\n",
    "\n",
    "def best_fit(xs,ys):\n",
    "    y_bar = np.mean(ys) \n",
    "    m_hat = calc_slope(xs,ys) \n",
    "    x_bar = np.mean(xs)\n",
    "    c = y_bar - m_hat*x_bar\n",
    "    return c\n",
    "c = best_fit(X,Y)\n",
    "print(\"intercept (c):\", c)\n",
    "\n",
    "\n",
    "#########################\n",
    "### prediction: y_hat ###\n",
    "\n",
    "def reg_line (m, c, xs):\n",
    "    Y_pred = []\n",
    "    for x in xs:\n",
    "        reg = m*x + c\n",
    "        Y_pred.append(reg)\n",
    "    return Y_pred\n",
    "\n",
    "Y_pred = reg_line(m,c,X)\n",
    "print(\"y_hat (regline):\", Y_pred)\n",
    "\n",
    "\n",
    "#######################\n",
    "### R-squared: r_sq ###\n",
    "\n",
    "# squared error:\n",
    "def sq_err(Y, Y_pred):\n",
    "    ss_res = sum((Y - Y_pred)**2)\n",
    "    return ss_res\n",
    "ss_res = sq_err(Y, Y_pred)\n",
    "print(\"ss_res:\",ss_res)\n",
    "\n",
    "def r_squared(y_real, y_predicted):   \n",
    "    y_mean = np.mean(y_real)\n",
    "    ss_tot = sum((y_real - y_mean)**2)\n",
    "    ss_res = sq_err(y_mean, y_predicted)\n",
    "    r_sq = ss_res/ss_tot\n",
    "    return r_sq \n",
    "r_sq = r_squared(Y, Y_pred)\n",
    "print(\"R-squared: \", r_sq)"
   ]
  },
  {
   "cell_type": "code",
   "execution_count": 3,
   "metadata": {},
   "outputs": [
    {
     "data": {
      "image/png": "[encoded data removed]",
      "text/plain": [
       "<Figure size 432x288 with 1 Axes>"
      ]
     },
     "metadata": {
      "needs_background": "light"
     },
     "output_type": "display_data"
    }
   ],
   "source": [
    "# R-Squared Model\n",
    "reg_plot = plt.figure()\n",
    "ax = reg_plot.add_subplot(111)\n",
    "ax.plot(X, Y_pred)\n",
    "ax.scatter(X,Y)\n",
    "plt.show()"
   ]
  },
  {
   "cell_type": "code",
   "execution_count": 4,
   "metadata": {
    "scrolled": true
   },
   "outputs": [],
   "source": [
    "# Basic Regression Diagnostics\n",
    "# ----------------------------\n",
    "# Slope: 0.56\n",
    "# Y-Intercept: 6.33\n",
    "# R-Squared: 0.97\n",
    "# ----------------------------\n",
    "# Model: Y = 0.56 * X + 6.33"
   ]
  },
  {
   "cell_type": "markdown",
   "metadata": {},
   "source": [
    "## Make Predictions\n",
    "\n",
    "Predict and plot the value of y using regression line above for a new value of $x = 4.5$."
   ]
  },
  {
   "cell_type": "code",
   "execution_count": 5,
   "metadata": {},
   "outputs": [
    {
     "data": {
      "image/png": "[encoded data removed]",
      "text/plain": [
       "<Figure size 432x288 with 1 Axes>"
      ]
     },
     "metadata": {
      "needs_background": "light"
     },
     "output_type": "display_data"
    }
   ],
   "source": [
    "# Make prediction for x = 4.5 and visualize on the scatter plot\n",
    "x_new = 4.5\n",
    "y_new = 0.56 * x_new + 6.33\n",
    "\n",
    "\n",
    "reg_plot = plt.figure()\n",
    "ax = reg_plot.add_subplot(111)\n",
    "ax.plot(X, Y_pred)\n",
    "ax.scatter(X,Y)\n",
    "ax.scatter([x_new], [y_new])\n",
    "plt.show()"
   ]
  },
  {
   "cell_type": "markdown",
   "metadata": {},
   "source": [
    "## Level up - Optional \n",
    "Load the \"`heightweight.csv`\" dataset. Use the height as an independent and weight as a dependent variable and draw a regression line to data using your code above. Calculate your R-Squared value for the model and try to predict new values of y. \n",
    "\n",
    "## Summary\n",
    "\n",
    "In this lab, we ran a complete simple regression analysis experiment using functions created so far. Next up, you'll learn how you can use python's built-in modules to perform similar analyses with a much higher level of sophistication. "
   ]
  },
  {
   "cell_type": "code",
   "execution_count": 12,
   "metadata": {},
   "outputs": [
    {
     "name": "stdout",
     "output_type": "stream",
     "text": [
      "          height      weight\n",
      "count  20.000000   20.000000\n",
      "mean   66.850000  165.800000\n",
      "std     5.112163   28.971129\n",
      "min    58.000000  115.000000\n",
      "25%    63.250000  143.750000\n",
      "50%    68.500000  170.000000\n",
      "75%    71.000000  192.750000\n",
      "max    74.000000  210.000000\n",
      "    height  weight\n",
      "0       68     165\n",
      "1       71     201\n",
      "2       61     140\n",
      "3       69     170\n",
      "4       71     192\n",
      "5       58     125\n",
      "6       72     195\n",
      "7       73     205\n",
      "8       58     115\n",
      "9       74     210\n",
      "10      61     135\n",
      "11      59     125\n",
      "12      69     172\n",
      "13      68     175\n",
      "14      64     145\n",
      "15      69     170\n",
      "16      72     200\n",
      "17      66     155\n",
      "18      65     150\n",
      "19      69     171\n"
     ]
    }
   ],
   "source": [
    "# Level up\n",
    "\n",
    "import pandas as pd\n",
    "df = pd.read_csv('heightWeight.csv')\n",
    "print(df.describe())\n",
    "print(df)"
   ]
  },
  {
   "cell_type": "code",
   "execution_count": 14,
   "metadata": {},
   "outputs": [
    {
     "name": "stdout",
     "output_type": "stream",
     "text": [
      "Slope:  5.539019232705614\n",
      "Y-intercept:  -204.48343570637024\n",
      "R-squared:  0.955309928867348\n"
     ]
    }
   ],
   "source": [
    "# Reg Model Data Summary for Height and Weight:\n",
    "# height = independent variable (X)\n",
    "# weight = dependent variable (Y)\n",
    "\n",
    "# m = calc_slope(X,Y)\n",
    "# c = best_fit(X,Y)\n",
    "# Y_pred = reg_line(m,c,X)\n",
    "# ss_res = sq_err(Y, Y_pred)\n",
    "# r_sq = r_squared(Y, Y_pred)\n",
    "\n",
    "x_height = np.array(df['height'])\n",
    "y_weight = np.array(df['weight'])\n",
    "\n",
    "m = calc_slope(x_height, y_weight)\n",
    "c = best_fit(x_height, y_weight)\n",
    "y_pred = reg_line(m, c, x_height)\n",
    "ss_res = sq_err(y_weight, y_pred)\n",
    "r_sq = r_squared(y_weight, y_pred)\n",
    "\n",
    "print(\"Slope: \", m)\n",
    "print(\"Y-intercept: \", c)\n",
    "print(\"R-squared: \", r_sq)\n"
   ]
  },
  {
   "cell_type": "code",
   "execution_count": 28,
   "metadata": {},
   "outputs": [
    {
     "data": {
      "image/png": "[encoded data removed]",
      "text/plain": [
       "<Figure size 432x288 with 1 Axes>"
      ]
     },
     "metadata": {
      "needs_background": "light"
     },
     "output_type": "display_data"
    }
   ],
   "source": [
    "reg_plot = plt.figure()\n",
    "ax = reg_plot.add_subplot(111)\n",
    "ax.plot(x_height, Y_pred)\n",
    "ax.scatter(x_height,y_weight)\n",
    "plt.show()"
   ]
  },
  {
   "cell_type": "code",
   "execution_count": null,
   "metadata": {},
   "outputs": [],
   "source": [
    "# Basic Regression Diagnostics\n",
    "# ----------------------------\n",
    "# Slope: 5.54\n",
    "# Y-Intercept: -204.48\n",
    "# R-Squared: 0.96\n",
    "# ----------------------------\n",
    "# Model: Y = 5.54 * x + -204.48"
   ]
  },
  {
   "cell_type": "code",
   "execution_count": 27,
   "metadata": {},
   "outputs": [
    {
     "name": "stdout",
     "output_type": "stream",
     "text": [
      "[72.52000000000001, 100.22, 222.1, 227.64000000000001]\n"
     ]
    },
    {
     "data": {
      "image/png": "[encoded data removed]",
      "text/plain": [
       "<Figure size 432x288 with 1 Axes>"
      ]
     },
     "metadata": {
      "needs_background": "light"
     },
     "output_type": "display_data"
    }
   ],
   "source": [
    "# Make prediction for x = 4.5 and visualize on the scatter plot\n",
    "\n",
    "x_i = [50, 55, 77, 78]\n",
    "y_i = list(map(lambda x: 5.54 * x + -204.48, x_i))\n",
    "print(y_i)\n",
    "reg_plot2 = plt.figure()\n",
    "ax = reg_plot2.add_subplot(111)\n",
    "ax.plot(x_height, y_pred)\n",
    "ax.scatter(x_height, y_weight)\n",
    "ax.scatter(x_i[0], y_i[0])\n",
    "ax.scatter(x_i[1], y_i[1])\n",
    "ax.scatter(x_i[2], y_i[2])\n",
    "plt.show()"
   ]
  },
  {
   "cell_type": "code",
   "execution_count": null,
   "metadata": {},
   "outputs": [],
   "source": []
  }
 ],
 "metadata": {
  "kernelspec": {
   "display_name": "Python 3",
   "language": "python",
   "name": "python3"
  },
  "language_info": {
   "codemirror_mode": {
    "name": "ipython",
    "version": 3
   },
   "file_extension": ".py",
   "mimetype": "text/x-python",
   "name": "python",
   "nbconvert_exporter": "python",
   "pygments_lexer": "ipython3",
   "version": "3.7.3"
  }
 },
 "nbformat": 4,
 "nbformat_minor": 2
}
